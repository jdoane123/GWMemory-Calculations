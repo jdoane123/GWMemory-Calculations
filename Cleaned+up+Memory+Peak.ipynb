{
 "cells": [
  {
   "cell_type": "code",
   "execution_count": 58,
   "metadata": {},
   "outputs": [
    {
     "name": "stdout",
     "output_type": "stream",
     "text": [
      "Populating the interactive namespace from numpy and matplotlib\n",
      "Requirement already satisfied: lalsuite in /home/pycbc/pycbc-software/lib/python2.7/site-packages\n",
      "Requirement already satisfied: ligo-segments in /home/pycbc/pycbc-software/lib/python2.7/site-packages (from lalsuite)\n",
      "Requirement already satisfied: numpy>=1.7 in /home/pycbc/pycbc-software/lib/python2.7/site-packages (from lalsuite)\n",
      "Requirement already satisfied: six in /home/pycbc/pycbc-software/lib/python2.7/site-packages (from ligo-segments->lalsuite)\n",
      "\u001b[33mYou are using pip version 9.0.1, however version 18.0 is available.\n",
      "You should consider upgrading via the 'pip install --upgrade pip' command.\u001b[0m\n"
     ]
    }
   ],
   "source": [
    "%pylab inline\n",
    "%config Inline.Backend.figure_format = 'retina'\n",
    "\n",
    "from __future__ import division, print_function\n",
    "import gwmemory\n",
    "!pip install lalsuite \n",
    "\n",
    "from pycbc import catalog\n",
    "from pycbc.waveform import get_td_waveform, get_fd_waveform\n",
    "from pycbc.waveform import td_approximants, fd_approximants\n",
    "from pycbc.fft import fft\n",
    "\n",
    "import numpy as np\n",
    "import scipy as sp\n",
    "import pylab\n",
    "from scipy.fftpack import fft, rfft\n",
    "\n",
    "%matplotlib inline\n",
    "import matplotlib.pyplot as plt\n",
    "import matplotlib.mlab as mlab\n",
    "from pycbc.filter import resample_to_delta_t, highpass\n",
    "from pycbc.catalog import Merger\n",
    "from pycbc.psd import interpolate, inverse_spectrum_truncation\n",
    "from pycbc.waveform import get_td_waveform\n",
    "from pycbc.filter.matchedfilter import match\n",
    "\n",
    "from scipy import signal\n",
    "from scipy.signal import butter, filtfilt, iirdesign, zpk2tf, freqz\n",
    "import h5py\n",
    "import json\n",
    "import matplotlib.lines as mlines"
   ]
  },
  {
   "cell_type": "code",
   "execution_count": 43,
   "metadata": {
    "collapsed": true
   },
   "outputs": [],
   "source": [
    "# Function to calculate the noise weighted inner product of two vectors\n",
    "# a and b (FFTs) with noise vector Sn (PSD); df = freq. bin size.a, b, and Sn must be same length\n",
    "def InnerProduct(a, b, Sn, df):\n",
    "    \n",
    "    b_conj = np.conjugate(b)\n",
    "    \n",
    "    integrand = []\n",
    "    \n",
    "    for i in range(0,len(a)):\n",
    "        intgrnd = a[i]*b_conj[i]/Sn[i]\n",
    "        integrand.append(intgrnd)\n",
    "            \n",
    "    result_complex = 4*np.sum(integrand)*df\n",
    "    \n",
    "    result = np.real(result_complex)\n",
    "    \n",
    "    return result"
   ]
  },
  {
   "cell_type": "code",
   "execution_count": 44,
   "metadata": {
    "collapsed": true
   },
   "outputs": [],
   "source": [
    "#Function to calculate the likelihood of data given parameters of data, template(h_theta), Sn(PSD), and df = freq bin size\n",
    "#h_theta, data, and Sn (PSD) must all be same length\n",
    "\n",
    "def LogLikelihood(data, h_theta, Sn, df):\n",
    "    \n",
    "    h_minus_d = h_theta - data\n",
    "    \n",
    "    term = (-1.0/2)*InnerProduct(h_minus_d, h_minus_d, Sn, df)\n",
    "    \n",
    "    result = (term)\n",
    "\n",
    "    return result"
   ]
  },
  {
   "cell_type": "code",
   "execution_count": 59,
   "metadata": {},
   "outputs": [
    {
     "ename": "Exception",
     "evalue": "Got t[-1]=203.025443517 > self.t_f=100.000000019",
     "output_type": "error",
     "traceback": [
      "\u001b[0;31m---------------------------------------------------------------------------\u001b[0m",
      "\u001b[0;31mException\u001b[0m                                 Traceback (most recent call last)",
      "\u001b[0;32m<ipython-input-59-d1d071b1d8d4>\u001b[0m in \u001b[0;36m<module>\u001b[0;34m()\u001b[0m\n\u001b[1;32m      9\u001b[0m \u001b[0mtimes\u001b[0m \u001b[0;34m=\u001b[0m \u001b[0mnp\u001b[0m\u001b[0;34m.\u001b[0m\u001b[0mlinspace\u001b[0m\u001b[0;34m(\u001b[0m\u001b[0;34m-\u001b[0m\u001b[0;36m0.01\u001b[0m\u001b[0;34m,\u001b[0m \u001b[0;36m0.02\u001b[0m\u001b[0;34m,\u001b[0m \u001b[0;36m10001\u001b[0m\u001b[0;34m)\u001b[0m\u001b[0;34m\u001b[0m\u001b[0m\n\u001b[1;32m     10\u001b[0m \u001b[0;31m#times = np.linspace(-0.98, .01, 10000)\u001b[0m\u001b[0;34m\u001b[0m\u001b[0;34m\u001b[0m\u001b[0m\n\u001b[0;32m---> 11\u001b[0;31m \u001b[0msurr\u001b[0m \u001b[0;34m=\u001b[0m \u001b[0mgwmemory\u001b[0m\u001b[0;34m.\u001b[0m\u001b[0mwaveforms\u001b[0m\u001b[0;34m.\u001b[0m\u001b[0mSurrogate\u001b[0m\u001b[0;34m(\u001b[0m\u001b[0mq\u001b[0m\u001b[0;34m=\u001b[0m\u001b[0mq\u001b[0m\u001b[0;34m,\u001b[0m \u001b[0mS1\u001b[0m\u001b[0;34m=\u001b[0m\u001b[0mS1\u001b[0m\u001b[0;34m,\u001b[0m \u001b[0mS2\u001b[0m\u001b[0;34m=\u001b[0m\u001b[0mS2\u001b[0m\u001b[0;34m,\u001b[0m \u001b[0mMTot\u001b[0m\u001b[0;34m=\u001b[0m\u001b[0;36m20\u001b[0m\u001b[0;34m,\u001b[0m \u001b[0mdistance\u001b[0m\u001b[0;34m=\u001b[0m\u001b[0;36m200\u001b[0m\u001b[0;34m,\u001b[0m \u001b[0mtimes\u001b[0m\u001b[0;34m=\u001b[0m\u001b[0mtimes\u001b[0m\u001b[0;34m)\u001b[0m\u001b[0;34m\u001b[0m\u001b[0m\n\u001b[0m\u001b[1;32m     12\u001b[0m \u001b[0;31m#print(np.array)\u001b[0m\u001b[0;34m\u001b[0m\u001b[0;34m\u001b[0m\u001b[0m\n\u001b[1;32m     13\u001b[0m \u001b[0;31m#print (times.size)\u001b[0m\u001b[0;34m\u001b[0m\u001b[0;34m\u001b[0m\u001b[0m\n",
      "\u001b[0;32m/home/pycbc/pycbc-software/lib/python2.7/site-packages/gwmemory/waveforms.pyc\u001b[0m in \u001b[0;36m__init__\u001b[0;34m(self, q, name, MTot, S1, S2, distance, LMax, modes, times)\u001b[0m\n\u001b[1;32m    187\u001b[0m             \u001b[0mtimes\u001b[0m \u001b[0;34m*=\u001b[0m \u001b[0mself\u001b[0m\u001b[0;34m.\u001b[0m\u001b[0mt_to_geo\u001b[0m\u001b[0;34m\u001b[0m\u001b[0m\n\u001b[1;32m    188\u001b[0m \u001b[0;34m\u001b[0m\u001b[0m\n\u001b[0;32m--> 189\u001b[0;31m         \u001b[0mh_lm\u001b[0m\u001b[0;34m,\u001b[0m \u001b[0mtimes\u001b[0m \u001b[0;34m=\u001b[0m \u001b[0mself\u001b[0m\u001b[0;34m.\u001b[0m\u001b[0mtime_domain_oscillatory\u001b[0m\u001b[0;34m(\u001b[0m\u001b[0mmodes\u001b[0m\u001b[0;34m=\u001b[0m\u001b[0mmodes\u001b[0m\u001b[0;34m,\u001b[0m \u001b[0mtimes\u001b[0m\u001b[0;34m=\u001b[0m\u001b[0mtimes\u001b[0m\u001b[0;34m)\u001b[0m\u001b[0;34m\u001b[0m\u001b[0m\n\u001b[0m\u001b[1;32m    190\u001b[0m \u001b[0;34m\u001b[0m\u001b[0m\n\u001b[1;32m    191\u001b[0m         \u001b[0mMemoryGenerator\u001b[0m\u001b[0;34m.\u001b[0m\u001b[0m__init__\u001b[0m\u001b[0;34m(\u001b[0m\u001b[0mself\u001b[0m\u001b[0;34m,\u001b[0m \u001b[0mname\u001b[0m\u001b[0;34m=\u001b[0m\u001b[0mname\u001b[0m\u001b[0;34m,\u001b[0m \u001b[0mh_lm\u001b[0m\u001b[0;34m=\u001b[0m\u001b[0mh_lm\u001b[0m\u001b[0;34m,\u001b[0m \u001b[0mtimes\u001b[0m\u001b[0;34m=\u001b[0m\u001b[0mtimes\u001b[0m\u001b[0;34m)\u001b[0m\u001b[0;34m\u001b[0m\u001b[0m\n",
      "\u001b[0;32m/home/pycbc/pycbc-software/lib/python2.7/site-packages/gwmemory/waveforms.pyc\u001b[0m in \u001b[0;36mtime_domain_oscillatory\u001b[0;34m(self, times, modes, inc, pol)\u001b[0m\n\u001b[1;32m    221\u001b[0m                 \u001b[0mtimes\u001b[0m \u001b[0;34m=\u001b[0m \u001b[0mnp\u001b[0m\u001b[0;34m.\u001b[0m\u001b[0mlinspace\u001b[0m\u001b[0;34m(\u001b[0m\u001b[0;34m-\u001b[0m\u001b[0;36m900\u001b[0m\u001b[0;34m,\u001b[0m \u001b[0;36m100\u001b[0m\u001b[0;34m,\u001b[0m \u001b[0;36m10001\u001b[0m\u001b[0;34m)\u001b[0m\u001b[0;34m\u001b[0m\u001b[0m\n\u001b[1;32m    222\u001b[0m             \u001b[0mtimes\u001b[0m \u001b[0;34m=\u001b[0m \u001b[0mtimes\u001b[0m \u001b[0;34m/\u001b[0m \u001b[0mself\u001b[0m\u001b[0;34m.\u001b[0m\u001b[0mt_to_geo\u001b[0m\u001b[0;34m\u001b[0m\u001b[0m\n\u001b[0;32m--> 223\u001b[0;31m             \u001b[0mh_lm\u001b[0m \u001b[0;34m=\u001b[0m \u001b[0mself\u001b[0m\u001b[0;34m.\u001b[0m\u001b[0msur\u001b[0m\u001b[0;34m(\u001b[0m\u001b[0mself\u001b[0m\u001b[0;34m.\u001b[0m\u001b[0mq\u001b[0m\u001b[0;34m,\u001b[0m \u001b[0mself\u001b[0m\u001b[0;34m.\u001b[0m\u001b[0mS1\u001b[0m\u001b[0;34m,\u001b[0m \u001b[0mself\u001b[0m\u001b[0;34m.\u001b[0m\u001b[0mS2\u001b[0m\u001b[0;34m,\u001b[0m \u001b[0mMTot\u001b[0m\u001b[0;34m=\u001b[0m\u001b[0mself\u001b[0m\u001b[0;34m.\u001b[0m\u001b[0mMTot\u001b[0m\u001b[0;34m,\u001b[0m \u001b[0mdistance\u001b[0m\u001b[0;34m=\u001b[0m\u001b[0mself\u001b[0m\u001b[0;34m.\u001b[0m\u001b[0mdistance\u001b[0m\u001b[0;34m,\u001b[0m \u001b[0mt\u001b[0m\u001b[0;34m=\u001b[0m\u001b[0mtimes\u001b[0m\u001b[0;34m,\u001b[0m \u001b[0mLMax\u001b[0m\u001b[0;34m=\u001b[0m\u001b[0mself\u001b[0m\u001b[0;34m.\u001b[0m\u001b[0mLMax\u001b[0m\u001b[0;34m)\u001b[0m\u001b[0;34m\u001b[0m\u001b[0m\n\u001b[0m\u001b[1;32m    224\u001b[0m \u001b[0;34m\u001b[0m\u001b[0m\n\u001b[1;32m    225\u001b[0m             \u001b[0mavailable_modes\u001b[0m \u001b[0;34m=\u001b[0m \u001b[0mset\u001b[0m\u001b[0;34m(\u001b[0m\u001b[0mh_lm\u001b[0m\u001b[0;34m.\u001b[0m\u001b[0mkeys\u001b[0m\u001b[0;34m(\u001b[0m\u001b[0;34m)\u001b[0m\u001b[0;34m)\u001b[0m\u001b[0;34m\u001b[0m\u001b[0m\n",
      "\u001b[0;32m/home/pycbc/pycbc-software/lib/python2.7/site-packages/NRSur7dq2/NRSur7dq2.pyc\u001b[0m in \u001b[0;36m__call__\u001b[0;34m(self, q, chiA0, chiB0, init_phase, init_quat, return_spins, t, theta, phi, LMax, t_ref, f_ref, MTot, distance, use_lalsimulation_conventions)\u001b[0m\n\u001b[1;32m    998\u001b[0m             \u001b[0;32mif\u001b[0m \u001b[0mt\u001b[0m\u001b[0;34m[\u001b[0m\u001b[0;34m-\u001b[0m\u001b[0;36m1\u001b[0m\u001b[0;34m]\u001b[0m \u001b[0;34m>\u001b[0m \u001b[0mself\u001b[0m\u001b[0;34m.\u001b[0m\u001b[0mt_f\u001b[0m \u001b[0;34m+\u001b[0m \u001b[0;36m1.0\u001b[0m\u001b[0;34m:\u001b[0m\u001b[0;34m\u001b[0m\u001b[0m\n\u001b[1;32m    999\u001b[0m                 raise Exception(\"Got t[-1]=%s > self.t_f=%s\"%(\n\u001b[0;32m-> 1000\u001b[0;31m                         t[-1], self.t_f))\n\u001b[0m\u001b[1;32m   1001\u001b[0m             \u001b[0mhre\u001b[0m \u001b[0;34m=\u001b[0m \u001b[0msplinterp_many\u001b[0m\u001b[0;34m(\u001b[0m\u001b[0mself\u001b[0m\u001b[0;34m.\u001b[0m\u001b[0mt_coorb\u001b[0m\u001b[0;34m,\u001b[0m \u001b[0mt\u001b[0m\u001b[0;34m,\u001b[0m \u001b[0mnp\u001b[0m\u001b[0;34m.\u001b[0m\u001b[0mreal\u001b[0m\u001b[0;34m(\u001b[0m\u001b[0mh_inertial\u001b[0m\u001b[0;34m)\u001b[0m\u001b[0;34m)\u001b[0m\u001b[0;34m\u001b[0m\u001b[0m\n\u001b[1;32m   1002\u001b[0m             \u001b[0mhim\u001b[0m \u001b[0;34m=\u001b[0m \u001b[0msplinterp_many\u001b[0m\u001b[0;34m(\u001b[0m\u001b[0mself\u001b[0m\u001b[0;34m.\u001b[0m\u001b[0mt_coorb\u001b[0m\u001b[0;34m,\u001b[0m \u001b[0mt\u001b[0m\u001b[0;34m,\u001b[0m \u001b[0mnp\u001b[0m\u001b[0;34m.\u001b[0m\u001b[0mimag\u001b[0m\u001b[0;34m(\u001b[0m\u001b[0mh_inertial\u001b[0m\u001b[0;34m)\u001b[0m\u001b[0;34m)\u001b[0m\u001b[0;34m\u001b[0m\u001b[0m\n",
      "\u001b[0;31mException\u001b[0m: Got t[-1]=203.025443517 > self.t_f=100.000000019"
     ]
    }
   ],
   "source": [
    "#In order to generate the memory we necessarily generate the time-domain oscillatory waveform\n",
    "q = 1.\n",
    "S1 = [0., 0., 0.]\n",
    "S2 = [0., 0., 0.]\n",
    "\n",
    "\n",
    "\n",
    "#times = np.linspace(-270, 0.02, 10000)\n",
    "times = np.linspace(-0.08, 0.02, 10001)\n",
    "#times = np.linspace(-0.98, .01, 10000)\n",
    "surr = gwmemory.waveforms.Surrogate(q=q, S1=S1, S2=S2, MTot=60, distance=200, times=times)\n",
    "#print(np.array)\n",
    "#print (times.size)\n",
    "#print (help(surr.time_domain_oscillatory))\n",
    "\n",
    "inc = np.pi / 2\n",
    "pol = 0\n",
    "\n",
    "oscillatory, times = surr.time_domain_oscillatory(inc=inc, pol=pol)\n",
    "memory, times = surr.time_domain_memory(inc=inc, pol=pol)\n",
    "\n",
    "fig = figure(figsize=(12, 6))\n",
    "fig.add_subplot(2, 1, 1)\n",
    "plot(times, oscillatory['plus'], linestyle='-', color='b', alpha=0.9)\n",
    "plot(times, oscillatory['cross'], linestyle='--', color='r', alpha=0.5)\n",
    "plot(times, memory['plus'], linestyle='-.', color='b', alpha=0.5)\n",
    "plot(times, memory['cross'], linestyle='-.', color='r', alpha=0.5)\n",
    "plot(times, oscillatory['plus'] + memory['plus'], color='b')\n",
    "plot(times, oscillatory['cross'] + memory['cross'], color='r')\n",
    "axhline(0, linestyle=':', color='k')\n",
    "xlim(-0.08, 0.02)\n",
    "xlabel('Time(sec)')\n",
    "ylabel('Strain(10^-21)')\n",
    "plt.title(\"Oscillatory and Memory Waveform\", y=1.08)\n",
    "\n",
    "\n",
    "print (type (oscillatory))\n",
    "\n",
    "print (dir(surr.time_domain_oscillatory))\n",
    "\n",
    "print (len(times))\n",
    "\n",
    "print (times.size)\n",
    "\n",
    "\n",
    "tight_layout()\n",
    "show()\n",
    "close()"
   ]
  },
  {
   "cell_type": "code",
   "execution_count": 46,
   "metadata": {},
   "outputs": [
    {
     "name": "stdout",
     "output_type": "stream",
     "text": [
      "10001\n",
      "10001\n",
      "[  0.00000000e+00   2.51556526e-33   1.50954303e-32   4.52930136e-32\n",
      "   1.00666599e-31   1.88779310e-31   3.17199083e-31   4.93498649e-31\n",
      "   7.25255502e-31   1.02005187e-30]\n",
      "[  1.61546816e-28   1.71392605e-28   1.81631390e-28   1.92270928e-28\n",
      "   2.03318976e-28   2.14783295e-28   2.26671651e-28   2.38991809e-28\n",
      "   2.51751538e-28   2.64958610e-28]\n",
      "5001\n",
      "5001\n"
     ]
    }
   ],
   "source": [
    "mem_plus = memory['plus']\n",
    "dt = times[1] - times[0]\n",
    "window = signal.tukey(len(mem_plus))\n",
    "win_mem= window*mem_plus\n",
    "print (len(win_mem))\n",
    "print(len(times))\n",
    "freq_mem = np.fft.rfft(win_mem)*dt\n",
    "\n",
    "dt = times[1] - times[0]\n",
    "#print (help(np.fft.fftfreq))\n",
    "fft_mem = np.fft.rfftfreq (len(win_mem),dt)                            \n",
    "print (win_mem[0:10])\n",
    "print (win_mem[50:60])\n",
    "print (len(freq_mem))\n",
    "print (len(fft_mem))"
   ]
  },
  {
   "cell_type": "code",
   "execution_count": 47,
   "metadata": {},
   "outputs": [
    {
     "name": "stdout",
     "output_type": "stream",
     "text": [
      "[ -0.00000000e+00  -1.14057711e-29  -4.91551898e-29  -1.18548857e-28\n",
      "  -2.24890509e-28  -3.73486868e-28  -5.69647489e-28  -8.18684609e-28\n",
      "  -1.12591300e-27  -1.49664980e-27]\n",
      "[ -1.37117523e-25  -1.44963939e-25  -1.53102417e-25  -1.61538217e-25\n",
      "  -1.70276593e-25  -1.79322796e-25  -1.88682068e-25  -1.98359649e-25\n",
      "  -2.08360770e-25  -2.18690657e-25]\n",
      "5001\n",
      "5001\n"
     ]
    }
   ],
   "source": [
    "osci_plus = oscillatory['plus']\n",
    "window = signal.tukey(len(osci_plus))\n",
    "win_osc= window*osci_plus\n",
    "freq_osc = np.fft.rfft(win_osc)*dt\n",
    "\n",
    "fft_osc = np.fft.rfftfreq(len(win_osc), dt)                            \n",
    "print (win_osc[0:10])\n",
    "print (win_osc[50:60])\n",
    "print (len(fft_osc))\n",
    "print (len(freq_osc))"
   ]
  },
  {
   "cell_type": "code",
   "execution_count": 48,
   "metadata": {},
   "outputs": [
    {
     "name": "stdout",
     "output_type": "stream",
     "text": [
      "5001\n",
      "5001\n"
     ]
    }
   ],
   "source": [
    "s = freq_osc + freq_mem\n",
    "\n",
    "print (len(freq_osc))\n",
    "print (len(freq_mem))\n"
   ]
  },
  {
   "cell_type": "code",
   "execution_count": 52,
   "metadata": {},
   "outputs": [],
   "source": [
    "#Making psd \n",
    "merger = Merger(\"GW150914\")\n",
    "\n",
    "# Get the data from the Hanford detector\n",
    "strain = merger.strain('H1')\n",
    "df = strain.delta_f\n",
    "psd = strain.psd(4)\n",
    "asd = np.sqrt(psd)\n",
    "asd_freqs = psd.sample_frequencies\n",
    "asd1 = asd/10\n",
    "asd_freqs1 = np.true_divide(asd_freqs, 10)\n",
    "#asd_freqs1 = asd_freqs/10\n",
    "#print (len(asd_freqs))"
   ]
  },
  {
   "cell_type": "code",
   "execution_count": 60,
   "metadata": {},
   "outputs": [
    {
     "data": {
      "image/png": "[encoded data removed]",
      "text/plain": [
       "<matplotlib.figure.Figure at 0xdf24990>"
      ]
     },
     "metadata": {},
     "output_type": "display_data"
    }
   ],
   "source": [
    "#Creating graph of the signal with the asd, memory, and oscillatory component combined\n",
    "colours = ['r', 'b', 'g', 'k']\n",
    "\n",
    "plt.figure()\n",
    "plt.loglog(np.absolute(fft_osc),np.absolute(freq_osc*(sqrt(fft_osc))), linestyle='-', color='b', label='Osc fft')\n",
    "plt.loglog(np.absolute(fft_mem),np.absolute(freq_mem*(sqrt(fft_osc))), linestyle='-', color='r', label='Mem fft')\n",
    "\n",
    "         \n",
    "#plotting asd\n",
    "plt.loglog(asd_freqs1,asd1, label = 'ASD')\n",
    "plt.legend(loc='upper right', shadow=True, fontsize='x-large')\n",
    "\n",
    "xlabel('$f$ (Hz)')\n",
    "ylabel('$stran/f(Hz)')\n",
    "\n",
    "xlim(10, 1000)\n",
    "ylim(1e-26, 1e-20)\n",
    "\n",
    "ax = plt.gca()\n",
    "ax.grid(True, axis='y')\n",
    "\n",
    "plt.title(\"Cosmic Explorer ASD,Oscillatory,and Memory component of 60 solar masses at 200 Mpc\", y=1.08)\n",
    "tight_layout()\n",
    "show()\n",
    "close()"
   ]
  },
  {
   "cell_type": "code",
   "execution_count": 14,
   "metadata": {
    "collapsed": true
   },
   "outputs": [],
   "source": [
    "#Interpolating to make  memory and oscillatory component (in freq domain) and PSD equal. This will line them up\n",
    "from scipy.interpolate import interp1d\n",
    "sampfreq = 4096\n",
    "datafreq = np.fft.fftfreq(freq_osc.size)*sampfreq\n",
    "interpolate_psd = np.interp(datafreq, asd_freqs, psd)"
   ]
  },
  {
   "cell_type": "code",
   "execution_count": 15,
   "metadata": {
    "collapsed": true
   },
   "outputs": [],
   "source": [
    "#Template, adding in the lambda component. Will store log likelihood of the template\n",
    "lambda_arr = np.arange(-10,10,.1)\n",
    "like_arr = []\n",
    "for weight in lambda_arr:\n",
    "    h_trial = freq_osc + weight*freq_mem\n",
    "    like_trial = LogLikelihood(s, h_trial, interpolate_psd, df)\n",
    "    like_arr.append(like_trial)"
   ]
  },
  {
   "cell_type": "code",
   "execution_count": 16,
   "metadata": {},
   "outputs": [
    {
     "name": "stdout",
     "output_type": "stream",
     "text": [
      "19.9833321912\n",
      "[ 0.04989526  0.04989791  0.04990053  0.04990313  0.0499057   0.04990825\n",
      "  0.04991078  0.04991328  0.04991576  0.04991822  0.04992065  0.04992305\n",
      "  0.04992543  0.04992779  0.04993013  0.04993244  0.04993472  0.04993698\n",
      "  0.04993922  0.04994144  0.04994362  0.04994579  0.04994793  0.04995005\n",
      "  0.04995214  0.04995421  0.04995626  0.04995828  0.04996027  0.04996224\n",
      "  0.04996419  0.04996612  0.04996802  0.04996989  0.04997175  0.04997357\n",
      "  0.04997538  0.04997716  0.04997891  0.04998064  0.04998235  0.04998403\n",
      "  0.04998569  0.04998733  0.04998894  0.04999052  0.04999208  0.04999362\n",
      "  0.04999513  0.04999662  0.04999809  0.04999953  0.05000095  0.05000234\n",
      "  0.05000371  0.05000505  0.05000637  0.05000767  0.05000894  0.05001019\n",
      "  0.05001141  0.05001261  0.05001379  0.05001494  0.05001606  0.05001717\n",
      "  0.05001824  0.0500193   0.05002033  0.05002133  0.05002232  0.05002327\n",
      "  0.05002421  0.05002511  0.050026    0.05002686  0.05002769  0.05002851\n",
      "  0.05002929  0.05003006  0.0500308   0.05003151  0.0500322   0.05003287\n",
      "  0.05003351  0.05003413  0.05003472  0.05003529  0.05003584  0.05003636\n",
      "  0.05003686  0.05003733  0.05003778  0.0500382   0.0500386   0.05003898\n",
      "  0.05003933  0.05003966  0.05003996  0.05004024  0.05004049  0.05004072\n",
      "  0.05004093  0.05004111  0.05004127  0.0500414   0.05004151  0.0500416\n",
      "  0.05004166  0.05004169  0.0500417   0.05004169  0.05004166  0.0500416\n",
      "  0.05004151  0.0500414   0.05004127  0.05004111  0.05004093  0.05004072\n",
      "  0.05004049  0.05004024  0.05003996  0.05003966  0.05003933  0.05003898\n",
      "  0.0500386   0.0500382   0.05003778  0.05003733  0.05003686  0.05003636\n",
      "  0.05003584  0.05003529  0.05003472  0.05003413  0.05003351  0.05003287\n",
      "  0.0500322   0.05003151  0.0500308   0.05003006  0.05002929  0.05002851\n",
      "  0.05002769  0.05002686  0.050026    0.05002511  0.05002421  0.05002327\n",
      "  0.05002232  0.05002133  0.05002033  0.0500193   0.05001824  0.05001717\n",
      "  0.05001606  0.05001494  0.05001379  0.05001261  0.05001141  0.05001019\n",
      "  0.05000894  0.05000767  0.05000637  0.05000505  0.05000371  0.05000234\n",
      "  0.05000095  0.04999953  0.04999809  0.04999662  0.04999513  0.04999362\n",
      "  0.04999208  0.04999052  0.04998894  0.04998733  0.04998569  0.04998403\n",
      "  0.04998235  0.04998064  0.04997891  0.04997716  0.04997538  0.04997357\n",
      "  0.04997175  0.04996989  0.04996802  0.04996612  0.04996419  0.04996224\n",
      "  0.04996027  0.04995828  0.04995626  0.04995421  0.04995214  0.04995005\n",
      "  0.04994793  0.04994579]\n"
     ]
    }
   ],
   "source": [
    "#Normalizing the Likelihood array\n",
    "likelihood1 = np.exp(asarray(like_arr))\n",
    "Normal = likelihood1.sum()*.1\n",
    "Norm = likelihood1/Normal\n",
    "print (Normal)\n",
    "print (Norm)\n"
   ]
  },
  {
   "cell_type": "code",
   "execution_count": 20,
   "metadata": {},
   "outputs": [
    {
     "data": {
      "image/png": "[encoded data removed]",
      "text/plain": [
       "<matplotlib.figure.Figure at 0x8a0ce90>"
      ]
     },
     "metadata": {},
     "output_type": "display_data"
    }
   ],
   "source": [
    "#Plotting the normalized likelihood array\n",
    "import pylab\n",
    "import numpy\n",
    "\n",
    "x = lambda_arr \n",
    "y = np.asarray(like_arr)\n",
    "#pylab.semilogy(x,y) \n",
    "pylab.plot(x,y)\n",
    "pylab.xlim(-10, 10, 0.01)\n",
    "plt.xticks(np.arange(min(x), max(x)+1, 1.0))\n",
    "plt.gca().xaxis.grid(True)\n",
    "pylab.xlabel('Lambda')\n",
    "pylab.ylim(-.0003, .000, 0.001)\n",
    "pylab.ylabel('Likelihood')\n",
    "plt.title(\"Likelihood Peak for 60 Solar Masses and 300 Megaparsecs\", y=1.08)\n",
    "\n",
    " \n",
    "pylab.show() "
   ]
  },
  {
   "cell_type": "code",
   "execution_count": 424,
   "metadata": {},
   "outputs": [
    {
     "data": {
      "image/png": "[encoded data removed]",
      "text/plain": [
       "<matplotlib.figure.Figure at 0x1587eb50>"
      ]
     },
     "metadata": {},
     "output_type": "display_data"
    }
   ],
   "source": [
    "#Plotting the normalized likelihood array\n",
    "import pylab\n",
    "import numpy\n",
    "\n",
    "x = lambda_arr \n",
    "y = Norm\n",
    "#pylab.semilogy(x,y) \n",
    "pylab.plot(x,y)\n",
    "pylab.xlim(-10, 10, 0.01)\n",
    "pylab.xlabel('Lambda')\n",
    "pylab.ylim(.046, .077, 0.01)\n",
    "pylab.ylabel('Likelihood')\n",
    "#plt.title(\"Likelihood for 60 solar massess and 5 megaparsecs\", y=1.08)\n",
    "\n",
    " \n",
    "pylab.show() "
   ]
  },
  {
   "cell_type": "code",
   "execution_count": 428,
   "metadata": {},
   "outputs": [
    {
     "ename": "IOError",
     "evalue": "[Errno 2] No such file or directory: 'example_psd.txt'",
     "output_type": "error",
     "traceback": [
      "\u001b[0;31m---------------------------------------------------------------------------\u001b[0m",
      "\u001b[0;31mIOError\u001b[0m                                   Traceback (most recent call last)",
      "\u001b[0;32m<ipython-input-428-bd7c473d28fe>\u001b[0m in \u001b[0;36m<module>\u001b[0;34m()\u001b[0m\n\u001b[1;32m     11\u001b[0m \u001b[0;31m#psd = pycbc.psd.analytical.EinsteinTelescopeP1600143(length, delta_f, low_freq_cutoff)\u001b[0m\u001b[0;34m\u001b[0m\u001b[0;34m\u001b[0m\u001b[0m\n\u001b[1;32m     12\u001b[0m psd = pycbc.psd.from_txt(filename, length, delta_f,\n\u001b[0;32m---> 13\u001b[0;31m                          low_frequency_cutoff, is_asd_file=False)\n\u001b[0m\u001b[1;32m     14\u001b[0m \u001b[0mpylab\u001b[0m\u001b[0;34m.\u001b[0m\u001b[0mloglog\u001b[0m\u001b[0;34m(\u001b[0m\u001b[0mpsd\u001b[0m\u001b[0;34m.\u001b[0m\u001b[0msample_frequencies\u001b[0m\u001b[0;34m,\u001b[0m \u001b[0mpsd\u001b[0m\u001b[0;34m,\u001b[0m \u001b[0mlabel\u001b[0m\u001b[0;34m=\u001b[0m\u001b[0;34m'interpolated'\u001b[0m\u001b[0;34m)\u001b[0m\u001b[0;34m\u001b[0m\u001b[0m\n\u001b[1;32m     15\u001b[0m \u001b[0;34m\u001b[0m\u001b[0m\n",
      "\u001b[0;32m/home/pycbc/pycbc-software/lib/python2.7/site-packages/PyCBC-1.9.2-py2.7.egg/pycbc/psd/read.pyc\u001b[0m in \u001b[0;36mfrom_txt\u001b[0;34m(filename, length, delta_f, low_freq_cutoff, is_asd_file)\u001b[0m\n\u001b[1;32m     56\u001b[0m         \u001b[0;32mor\u001b[0m \u001b[0mamplitude\u001b[0m \u001b[0mdensities\u001b[0m\u001b[0;34m.\u001b[0m\u001b[0;34m\u001b[0m\u001b[0m\n\u001b[1;32m     57\u001b[0m     \"\"\"\n\u001b[0;32m---> 58\u001b[0;31m     \u001b[0mfile_data\u001b[0m \u001b[0;34m=\u001b[0m \u001b[0mnumpy\u001b[0m\u001b[0;34m.\u001b[0m\u001b[0mloadtxt\u001b[0m\u001b[0;34m(\u001b[0m\u001b[0mfilename\u001b[0m\u001b[0;34m)\u001b[0m\u001b[0;34m\u001b[0m\u001b[0m\n\u001b[0m\u001b[1;32m     59\u001b[0m     \u001b[0;32mif\u001b[0m \u001b[0;34m(\u001b[0m\u001b[0mfile_data\u001b[0m \u001b[0;34m<\u001b[0m \u001b[0;36m0\u001b[0m\u001b[0;34m)\u001b[0m\u001b[0;34m.\u001b[0m\u001b[0many\u001b[0m\u001b[0;34m(\u001b[0m\u001b[0;34m)\u001b[0m \u001b[0;32mor\u001b[0m\u001b[0;31m \u001b[0m\u001b[0;31m\\\u001b[0m\u001b[0;34m\u001b[0m\u001b[0m\n\u001b[1;32m     60\u001b[0m                             \u001b[0mnumpy\u001b[0m\u001b[0;34m.\u001b[0m\u001b[0mlogical_not\u001b[0m\u001b[0;34m(\u001b[0m\u001b[0mnumpy\u001b[0m\u001b[0;34m.\u001b[0m\u001b[0misfinite\u001b[0m\u001b[0;34m(\u001b[0m\u001b[0mfile_data\u001b[0m\u001b[0;34m)\u001b[0m\u001b[0;34m)\u001b[0m\u001b[0;34m.\u001b[0m\u001b[0many\u001b[0m\u001b[0;34m(\u001b[0m\u001b[0;34m)\u001b[0m\u001b[0;34m:\u001b[0m\u001b[0;34m\u001b[0m\u001b[0m\n",
      "\u001b[0;32m/home/pycbc/pycbc-software/lib/python2.7/site-packages/numpy/lib/npyio.pyc\u001b[0m in \u001b[0;36mloadtxt\u001b[0;34m(fname, dtype, comments, delimiter, converters, skiprows, usecols, unpack, ndmin)\u001b[0m\n\u001b[1;32m    894\u001b[0m                 \u001b[0mfh\u001b[0m \u001b[0;34m=\u001b[0m \u001b[0miter\u001b[0m\u001b[0;34m(\u001b[0m\u001b[0mbz2\u001b[0m\u001b[0;34m.\u001b[0m\u001b[0mBZ2File\u001b[0m\u001b[0;34m(\u001b[0m\u001b[0mfname\u001b[0m\u001b[0;34m)\u001b[0m\u001b[0;34m)\u001b[0m\u001b[0;34m\u001b[0m\u001b[0m\n\u001b[1;32m    895\u001b[0m             \u001b[0;32melif\u001b[0m \u001b[0msys\u001b[0m\u001b[0;34m.\u001b[0m\u001b[0mversion_info\u001b[0m\u001b[0;34m[\u001b[0m\u001b[0;36m0\u001b[0m\u001b[0;34m]\u001b[0m \u001b[0;34m==\u001b[0m \u001b[0;36m2\u001b[0m\u001b[0;34m:\u001b[0m\u001b[0;34m\u001b[0m\u001b[0m\n\u001b[0;32m--> 896\u001b[0;31m                 \u001b[0mfh\u001b[0m \u001b[0;34m=\u001b[0m \u001b[0miter\u001b[0m\u001b[0;34m(\u001b[0m\u001b[0mopen\u001b[0m\u001b[0;34m(\u001b[0m\u001b[0mfname\u001b[0m\u001b[0;34m,\u001b[0m \u001b[0;34m'U'\u001b[0m\u001b[0;34m)\u001b[0m\u001b[0;34m)\u001b[0m\u001b[0;34m\u001b[0m\u001b[0m\n\u001b[0m\u001b[1;32m    897\u001b[0m             \u001b[0;32melse\u001b[0m\u001b[0;34m:\u001b[0m\u001b[0;34m\u001b[0m\u001b[0m\n\u001b[1;32m    898\u001b[0m                 \u001b[0mfh\u001b[0m \u001b[0;34m=\u001b[0m \u001b[0miter\u001b[0m\u001b[0;34m(\u001b[0m\u001b[0mopen\u001b[0m\u001b[0;34m(\u001b[0m\u001b[0mfname\u001b[0m\u001b[0;34m)\u001b[0m\u001b[0;34m)\u001b[0m\u001b[0;34m\u001b[0m\u001b[0m\n",
      "\u001b[0;31mIOError\u001b[0m: [Errno 2] No such file or directory: 'example_psd.txt'"
     ]
    }
   ],
   "source": [
    "import pycbc.psd\n",
    "import pycbc.types\n",
    "import pylab\n",
    "\n",
    "filename = 'example_psd.txt'\n",
    "\n",
    "# The PSD will be interpolated to the requested frequency spacing\n",
    "delta_f = 1.0 / 4\n",
    "length = int(1024 / delta_f)\n",
    "low_frequency_cutoff = 30.0\n",
    "#psd = pycbc.psd.analytical.EinsteinTelescopeP1600143(length, delta_f, low_freq_cutoff)\n",
    "psd = pycbc.psd.from_txt(filename, length, delta_f,\n",
    "                         low_frequency_cutoff, is_asd_file=False)\n",
    "pylab.loglog(psd.sample_frequencies, psd, label='interpolated')\n",
    "\n",
    "# The PSD will be read in without modification\n",
    "psd = pycbc.types.load_frequencyseries('./example_psd.txt')\n",
    "pylab.loglog(psd.sample_frequencies, psd, label='raw')\n",
    "\n",
    "pylab.xlim(xmin=30, xmax=1000)\n",
    "pylab.legend()\n",
    "pylab.xlabel('Hz')\n",
    "pylab.show()"
   ]
  },
  {
   "cell_type": "code",
   "execution_count": null,
   "metadata": {
    "collapsed": true
   },
   "outputs": [],
   "source": []
  }
 ],
 "metadata": {
  "kernelspec": {
   "display_name": "Python 2",
   "language": "python",
   "name": "python2"
  },
  "language_info": {
   "codemirror_mode": {
    "name": "ipython",
    "version": 2
   },
   "file_extension": ".py",
   "mimetype": "text/x-python",
   "name": "python",
   "nbconvert_exporter": "python",
   "pygments_lexer": "ipython2",
   "version": "2.7.5"
  }
 },
 "nbformat": 4,
 "nbformat_minor": 2
}
